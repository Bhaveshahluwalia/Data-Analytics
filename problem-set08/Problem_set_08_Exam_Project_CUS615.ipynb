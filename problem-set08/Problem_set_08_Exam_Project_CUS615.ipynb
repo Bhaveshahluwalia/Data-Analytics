{
  "nbformat": 4,
  "nbformat_minor": 0,
  "metadata": {
    "colab": {
      "name": "Problem_set_08_Exam_Project_CUS615.ipynb",
      "provenance": [],
      "collapsed_sections": [],
      "toc_visible": true,
      "include_colab_link": true
    },
    "kernelspec": {
      "display_name": "Python 3",
      "name": "python3"
    }
  },
  "cells": [
    {
      "cell_type": "markdown",
      "metadata": {
        "id": "view-in-github",
        "colab_type": "text"
      },
      "source": [
        "<a href=\"https://colab.research.google.com/github/Bhaveshahluwalia/Data-Analytics-Project/blob/main/problem-set08/Problem_set_08_Exam_Project_CUS615.ipynb\" target=\"_parent\"><img src=\"https://colab.research.google.com/assets/colab-badge.svg\" alt=\"Open In Colab\"/></a>"
      ]
    },
    {
      "cell_type": "markdown",
      "metadata": {
        "id": "I81n6Tk2bTd3"
      },
      "source": [
        "This notebook is part the of **Dr. Christoforos Christoforou's** course materials. You may not, nor may you knowingly allow others to reproduce or distribute lecture notes, course materials or any of their derivatives without the instructor's express written consent."
      ]
    },
    {
      "cell_type": "markdown",
      "metadata": {
        "id": "zJd26bpK54JR"
      },
      "source": [
        "# Exam Project\n",
        "**Professor**: Dr. Christoforos Christoforou\n",
        "\n",
        "The objective of this project is to reproduce the data analysis method presented in the paper:\n",
        "\n",
        "* **\"Mining Big Data to Extract Patterns and Predict Real-Life Outcomes\"**\n",
        "by Michal Kosinski, Yilun Wang, Himabindu Lakkaraju, and Jure Leskovec.\n",
        "\n",
        "\n",
        "You must implement the analysis using python code. This notebook provides you with the starting code to load the data and guides you through the requirement and each sub-task of the analysis. To complete this project you are expected to:\n",
        "\n",
        "1. Carefully read the paper.\n",
        "2. Refer the class lecture where this paper was discussed in detail.\n",
        "3. Research various python libraries and utility functions needed to implement your analysis.\n",
        "4. Complete all the challenges outlined in this notebook.\n",
        "\n"
      ]
    },
    {
      "cell_type": "markdown",
      "metadata": {
        "id": "BA45dOL-iEkE"
      },
      "source": [
        "## Student Information \n",
        "Complete your information in the form provided below. This is visible in colab. \n"
      ]
    },
    {
      "cell_type": "code",
      "metadata": {
        "cellView": "form",
        "id": "NaAt15_OiVnw"
      },
      "source": [
        "#@title Strudent Information \n",
        "student_name = \"Bhavesh Ahluwalia\" #@param {type:\"string\"}\n",
        "course_code = \"CUS-615\" #@param {type:\"string\"}\n"
      ],
      "execution_count": 60,
      "outputs": []
    },
    {
      "cell_type": "markdown",
      "metadata": {
        "id": "ZqGbeNmFGCCU"
      },
      "source": [
        "## Starter code - Configuring the analysis environment\n",
        "The code cells below provide you a starting code to setup the environment for you to complete this project's tasks.\n",
        "\n",
        "In particular, the code downloads the three dataset associated with this project and stores them in the folder `/content/sample_data/`. The data files from the paper comprise the `likes.csv` file, the `users.csv` file and the `users-likes.csv`; description of each data file is availabile in the paper.\n",
        "\n",
        "\n"
      ]
    },
    {
      "cell_type": "code",
      "metadata": {
        "colab": {
          "base_uri": "https://localhost:8080/"
        },
        "id": "AB33C_sJ5p4H",
        "outputId": "af960c12-156c-4240-8be3-81fb6a7c18c3"
      },
      "source": [
        "#\n",
        "# Run this sell to download the data for your analysis. \n",
        "#\n",
        "!wget -O /content/sample_data/sample_dataset.zip https://osf.io/9m87k/download\n",
        "!unzip /content/sample_data/sample_dataset.zip -d /content/sample_data/\n"
      ],
      "execution_count": 61,
      "outputs": [
        {
          "output_type": "stream",
          "text": [
            "--2021-05-10 22:44:51--  https://osf.io/9m87k/download\n",
            "Resolving osf.io (osf.io)... 35.190.84.173\n",
            "Connecting to osf.io (osf.io)|35.190.84.173|:443... connected.\n",
            "HTTP request sent, awaiting response... 302 FOUND\n",
            "Location: https://files.osf.io/v1/resources/fuqjg/providers/osfstorage/5e946850f1353503a3d52f24?action=download&direct&version=1 [following]\n",
            "--2021-05-10 22:44:51--  https://files.osf.io/v1/resources/fuqjg/providers/osfstorage/5e946850f1353503a3d52f24?action=download&direct&version=1\n",
            "Resolving files.osf.io (files.osf.io)... 35.186.214.196\n",
            "Connecting to files.osf.io (files.osf.io)|35.186.214.196|:443... connected.\n",
            "HTTP request sent, awaiting response... 200 OK\n",
            "Length: 314322145 (300M) [application/octet-stream]\n",
            "Saving to: ‘/content/sample_data/sample_dataset.zip’\n",
            "\n",
            "/content/sample_dat 100%[===================>] 299.76M  16.9MB/s    in 18s     \n",
            "\n",
            "2021-05-10 22:45:10 (16.4 MB/s) - ‘/content/sample_data/sample_dataset.zip’ saved [314322145/314322145]\n",
            "\n",
            "Archive:  /content/sample_data/sample_dataset.zip\n",
            "replace /content/sample_data/likes.csv? [y]es, [n]o, [A]ll, [N]one, [r]ename: "
          ],
          "name": "stdout"
        }
      ]
    },
    {
      "cell_type": "code",
      "metadata": {
        "colab": {
          "base_uri": "https://localhost:8080/"
        },
        "id": "D_k8ynI123ng",
        "outputId": "93d186b9-5caa-4e3e-8a80-805bcc4d3963"
      },
      "source": [
        "#\n",
        "# Install additional package not available in colab.\n",
        "#\n",
        "%pip install factor_analyzer"
      ],
      "execution_count": 62,
      "outputs": [
        {
          "output_type": "stream",
          "text": [
            "Requirement already satisfied: factor_analyzer in /usr/local/lib/python3.7/dist-packages (0.3.2)\n",
            "Requirement already satisfied: scikit-learn in /usr/local/lib/python3.7/dist-packages (from factor_analyzer) (0.22.2.post1)\n",
            "Requirement already satisfied: numpy in /usr/local/lib/python3.7/dist-packages (from factor_analyzer) (1.19.5)\n",
            "Requirement already satisfied: pandas in /usr/local/lib/python3.7/dist-packages (from factor_analyzer) (1.1.5)\n",
            "Requirement already satisfied: scipy in /usr/local/lib/python3.7/dist-packages (from factor_analyzer) (1.4.1)\n",
            "Requirement already satisfied: joblib>=0.11 in /usr/local/lib/python3.7/dist-packages (from scikit-learn->factor_analyzer) (1.0.1)\n",
            "Requirement already satisfied: pytz>=2017.2 in /usr/local/lib/python3.7/dist-packages (from pandas->factor_analyzer) (2018.9)\n",
            "Requirement already satisfied: python-dateutil>=2.7.3 in /usr/local/lib/python3.7/dist-packages (from pandas->factor_analyzer) (2.8.1)\n",
            "Requirement already satisfied: six>=1.5 in /usr/local/lib/python3.7/dist-packages (from python-dateutil>=2.7.3->pandas->factor_analyzer) (1.15.0)\n"
          ],
          "name": "stdout"
        }
      ]
    },
    {
      "cell_type": "code",
      "metadata": {
        "id": "aO_u3jLnJ6ut"
      },
      "source": [
        "#\n",
        "# You will likely need the following python packages when implementing this project.\n",
        "# Add any additional package as you deem necessary \n",
        "\n",
        "import pandas as pd\n",
        "import numpy as np\n",
        "import matplotlib.pyplot as plt\n",
        "from scipy.sparse import csr_matrix\n",
        "from scipy.sparse.linalg import svds, eigs\n",
        "from factor_analyzer import Rotator\n",
        "\n",
        "# Additional package you want to use:\n"
      ],
      "execution_count": 63,
      "outputs": []
    },
    {
      "cell_type": "markdown",
      "metadata": {
        "id": "qc6GFQPhKTUn"
      },
      "source": [
        "## Challenge 1 : Load the data into dataframes\n",
        "In this challenge you are expected to load the data from the raw files into the following variables:\n",
        "-  `users` : should reference a dataframe with the data in the `users.csv` file\n",
        "-  `likes` : should reference a dataframe with the data in the `likes.csv` file\n",
        "-  `ul` : should reference a dataframe with the data in `users.csv` file\n",
        "\n",
        "Then print the top 10 rows of reach dataframe."
      ]
    },
    {
      "cell_type": "code",
      "metadata": {
        "id": "U7jYTqf_Mabo"
      },
      "source": [
        "#\n",
        "# Your code goes here \n",
        "# \n",
        "users= pd.read_csv(\"/content/sample_data/users.csv\") # Loading the data into dataframe for users\n",
        "likes= pd.read_csv(\"/content/sample_data/likes.csv\") # Loading the data into dataframe for users\n",
        "ul= pd.read_csv(\"/content/sample_data/users-likes.csv\") # Loading the data into dataframe for ul"
      ],
      "execution_count": 124,
      "outputs": []
    },
    {
      "cell_type": "code",
      "metadata": {
        "colab": {
          "base_uri": "https://localhost:8080/",
          "height": 359
        },
        "id": "9tlspDtjMf89",
        "outputId": "c097f89a-3750-471e-e058-8021490a121d"
      },
      "source": [
        "#\n",
        "# Answer summary cell: Print the top 10 row from each datafame. \n",
        "# \n",
        "users.head(10) # head of the users "
      ],
      "execution_count": 125,
      "outputs": [
        {
          "output_type": "execute_result",
          "data": {
            "text/html": [
              "<div>\n",
              "<style scoped>\n",
              "    .dataframe tbody tr th:only-of-type {\n",
              "        vertical-align: middle;\n",
              "    }\n",
              "\n",
              "    .dataframe tbody tr th {\n",
              "        vertical-align: top;\n",
              "    }\n",
              "\n",
              "    .dataframe thead th {\n",
              "        text-align: right;\n",
              "    }\n",
              "</style>\n",
              "<table border=\"1\" class=\"dataframe\">\n",
              "  <thead>\n",
              "    <tr style=\"text-align: right;\">\n",
              "      <th></th>\n",
              "      <th>userid</th>\n",
              "      <th>gender</th>\n",
              "      <th>age</th>\n",
              "      <th>political</th>\n",
              "      <th>ope</th>\n",
              "      <th>con</th>\n",
              "      <th>ext</th>\n",
              "      <th>agr</th>\n",
              "      <th>neu</th>\n",
              "    </tr>\n",
              "  </thead>\n",
              "  <tbody>\n",
              "    <tr>\n",
              "      <th>0</th>\n",
              "      <td>54f34605aebd63f7680e37ffd299af79</td>\n",
              "      <td>0</td>\n",
              "      <td>33</td>\n",
              "      <td>0.0</td>\n",
              "      <td>1.26</td>\n",
              "      <td>1.65</td>\n",
              "      <td>1.17</td>\n",
              "      <td>-1.76</td>\n",
              "      <td>0.61</td>\n",
              "    </tr>\n",
              "    <tr>\n",
              "      <th>1</th>\n",
              "      <td>86399f8c44ba54224b2e60177ca89fa9</td>\n",
              "      <td>1</td>\n",
              "      <td>35</td>\n",
              "      <td>0.0</td>\n",
              "      <td>1.07</td>\n",
              "      <td>0.17</td>\n",
              "      <td>-0.14</td>\n",
              "      <td>1.49</td>\n",
              "      <td>0.30</td>\n",
              "    </tr>\n",
              "    <tr>\n",
              "      <th>2</th>\n",
              "      <td>84fab50f3c60d1fdc83aa91b5e584a78</td>\n",
              "      <td>1</td>\n",
              "      <td>36</td>\n",
              "      <td>0.0</td>\n",
              "      <td>0.89</td>\n",
              "      <td>1.28</td>\n",
              "      <td>0.86</td>\n",
              "      <td>1.07</td>\n",
              "      <td>0.99</td>\n",
              "    </tr>\n",
              "    <tr>\n",
              "      <th>3</th>\n",
              "      <td>f3b8fdaccce12ef6352bfad4d6052fe9</td>\n",
              "      <td>0</td>\n",
              "      <td>39</td>\n",
              "      <td>NaN</td>\n",
              "      <td>0.33</td>\n",
              "      <td>-1.01</td>\n",
              "      <td>-0.33</td>\n",
              "      <td>-0.68</td>\n",
              "      <td>0.92</td>\n",
              "    </tr>\n",
              "    <tr>\n",
              "      <th>4</th>\n",
              "      <td>8b06ea5e9cb87c61da387995450607f7</td>\n",
              "      <td>0</td>\n",
              "      <td>31</td>\n",
              "      <td>NaN</td>\n",
              "      <td>0.15</td>\n",
              "      <td>0.47</td>\n",
              "      <td>1.17</td>\n",
              "      <td>-1.01</td>\n",
              "      <td>-0.32</td>\n",
              "    </tr>\n",
              "    <tr>\n",
              "      <th>5</th>\n",
              "      <td>7a2ec9c1de4ec137367e66ad759ec848</td>\n",
              "      <td>0</td>\n",
              "      <td>38</td>\n",
              "      <td>NaN</td>\n",
              "      <td>1.26</td>\n",
              "      <td>0.76</td>\n",
              "      <td>-0.46</td>\n",
              "      <td>-1.76</td>\n",
              "      <td>-0.76</td>\n",
              "    </tr>\n",
              "    <tr>\n",
              "      <th>6</th>\n",
              "      <td>259f8f9cce95b214dc9924af48bcd6f0</td>\n",
              "      <td>1</td>\n",
              "      <td>36</td>\n",
              "      <td>NaN</td>\n",
              "      <td>1.44</td>\n",
              "      <td>-0.12</td>\n",
              "      <td>-0.21</td>\n",
              "      <td>0.99</td>\n",
              "      <td>0.18</td>\n",
              "    </tr>\n",
              "    <tr>\n",
              "      <th>7</th>\n",
              "      <td>ea3d6b771a87038cbc9e7da666f82b7a</td>\n",
              "      <td>0</td>\n",
              "      <td>58</td>\n",
              "      <td>NaN</td>\n",
              "      <td>0.70</td>\n",
              "      <td>-0.94</td>\n",
              "      <td>0.86</td>\n",
              "      <td>0.99</td>\n",
              "      <td>-0.32</td>\n",
              "    </tr>\n",
              "    <tr>\n",
              "      <th>8</th>\n",
              "      <td>e9552c9fe95d5cda02e2b55c05a943bc</td>\n",
              "      <td>0</td>\n",
              "      <td>37</td>\n",
              "      <td>NaN</td>\n",
              "      <td>1.63</td>\n",
              "      <td>0.32</td>\n",
              "      <td>0.98</td>\n",
              "      <td>1.49</td>\n",
              "      <td>-1.50</td>\n",
              "    </tr>\n",
              "    <tr>\n",
              "      <th>9</th>\n",
              "      <td>db85e9a0b1ab33ab7be878b9c236e7f2</td>\n",
              "      <td>1</td>\n",
              "      <td>33</td>\n",
              "      <td>0.0</td>\n",
              "      <td>0.70</td>\n",
              "      <td>0.54</td>\n",
              "      <td>-0.27</td>\n",
              "      <td>-0.26</td>\n",
              "      <td>0.92</td>\n",
              "    </tr>\n",
              "  </tbody>\n",
              "</table>\n",
              "</div>"
            ],
            "text/plain": [
              "                             userid  gender  age  ...   ext   agr   neu\n",
              "0  54f34605aebd63f7680e37ffd299af79       0   33  ...  1.17 -1.76  0.61\n",
              "1  86399f8c44ba54224b2e60177ca89fa9       1   35  ... -0.14  1.49  0.30\n",
              "2  84fab50f3c60d1fdc83aa91b5e584a78       1   36  ...  0.86  1.07  0.99\n",
              "3  f3b8fdaccce12ef6352bfad4d6052fe9       0   39  ... -0.33 -0.68  0.92\n",
              "4  8b06ea5e9cb87c61da387995450607f7       0   31  ...  1.17 -1.01 -0.32\n",
              "5  7a2ec9c1de4ec137367e66ad759ec848       0   38  ... -0.46 -1.76 -0.76\n",
              "6  259f8f9cce95b214dc9924af48bcd6f0       1   36  ... -0.21  0.99  0.18\n",
              "7  ea3d6b771a87038cbc9e7da666f82b7a       0   58  ...  0.86  0.99 -0.32\n",
              "8  e9552c9fe95d5cda02e2b55c05a943bc       0   37  ...  0.98  1.49 -1.50\n",
              "9  db85e9a0b1ab33ab7be878b9c236e7f2       1   33  ... -0.27 -0.26  0.92\n",
              "\n",
              "[10 rows x 9 columns]"
            ]
          },
          "metadata": {
            "tags": []
          },
          "execution_count": 125
        }
      ]
    },
    {
      "cell_type": "code",
      "metadata": {
        "colab": {
          "base_uri": "https://localhost:8080/",
          "height": 359
        },
        "id": "ixcnHv08GtMu",
        "outputId": "486cc558-c266-497c-b921-fe2ec23c103d"
      },
      "source": [
        "likes.head(10) # head of the likes"
      ],
      "execution_count": 126,
      "outputs": [
        {
          "output_type": "execute_result",
          "data": {
            "text/html": [
              "<div>\n",
              "<style scoped>\n",
              "    .dataframe tbody tr th:only-of-type {\n",
              "        vertical-align: middle;\n",
              "    }\n",
              "\n",
              "    .dataframe tbody tr th {\n",
              "        vertical-align: top;\n",
              "    }\n",
              "\n",
              "    .dataframe thead th {\n",
              "        text-align: right;\n",
              "    }\n",
              "</style>\n",
              "<table border=\"1\" class=\"dataframe\">\n",
              "  <thead>\n",
              "    <tr style=\"text-align: right;\">\n",
              "      <th></th>\n",
              "      <th>likeid</th>\n",
              "      <th>name</th>\n",
              "    </tr>\n",
              "  </thead>\n",
              "  <tbody>\n",
              "    <tr>\n",
              "      <th>0</th>\n",
              "      <td>3c1636c878e6eb2acfd00c6b61086e38</td>\n",
              "      <td>REIGN by Paul Gibson</td>\n",
              "    </tr>\n",
              "    <tr>\n",
              "      <th>1</th>\n",
              "      <td>feca46ddb8ef04f86172ace0cb7e004c</td>\n",
              "      <td>Cupcake Wishes &amp; Birthday Dreams</td>\n",
              "    </tr>\n",
              "    <tr>\n",
              "      <th>2</th>\n",
              "      <td>b65f46d64c688fe98bdbcf93a76a71fc</td>\n",
              "      <td>Yo también me rei de la caída de otro jejeje</td>\n",
              "    </tr>\n",
              "    <tr>\n",
              "      <th>3</th>\n",
              "      <td>9c5c8bb82d2cd46fbd7582f944fe370e</td>\n",
              "      <td>Abraham Joshua Heschel Day School- Alumni Network</td>\n",
              "    </tr>\n",
              "    <tr>\n",
              "      <th>4</th>\n",
              "      <td>2d82fa84ad79b085dc516dde154327a2</td>\n",
              "      <td>Kennesaw Farmer's Market</td>\n",
              "    </tr>\n",
              "    <tr>\n",
              "      <th>5</th>\n",
              "      <td>0a7a01c82143347fc4703faa4e7f415c</td>\n",
              "      <td>Karlsruher SC</td>\n",
              "    </tr>\n",
              "    <tr>\n",
              "      <th>6</th>\n",
              "      <td>8ed466215d9a6a4168120387d6e390b8</td>\n",
              "      <td>Intercessory Prayer</td>\n",
              "    </tr>\n",
              "    <tr>\n",
              "      <th>7</th>\n",
              "      <td>f82d6a5b5fbfd48bd293971f998d4da5</td>\n",
              "      <td>Nitti Development</td>\n",
              "    </tr>\n",
              "    <tr>\n",
              "      <th>8</th>\n",
              "      <td>d2c160d8e526a8cd38a73b3186a06fbf</td>\n",
              "      <td>Lakewood Organic Juices</td>\n",
              "    </tr>\n",
              "    <tr>\n",
              "      <th>9</th>\n",
              "      <td>5485abaac8afc3f3807a92515aca3f2a</td>\n",
              "      <td>Space Lieutenant Z Hippo Tomahawk</td>\n",
              "    </tr>\n",
              "  </tbody>\n",
              "</table>\n",
              "</div>"
            ],
            "text/plain": [
              "                             likeid                                               name\n",
              "0  3c1636c878e6eb2acfd00c6b61086e38                               REIGN by Paul Gibson\n",
              "1  feca46ddb8ef04f86172ace0cb7e004c                   Cupcake Wishes & Birthday Dreams\n",
              "2  b65f46d64c688fe98bdbcf93a76a71fc       Yo también me rei de la caída de otro jejeje\n",
              "3  9c5c8bb82d2cd46fbd7582f944fe370e  Abraham Joshua Heschel Day School- Alumni Network\n",
              "4  2d82fa84ad79b085dc516dde154327a2                           Kennesaw Farmer's Market\n",
              "5  0a7a01c82143347fc4703faa4e7f415c                                      Karlsruher SC\n",
              "6  8ed466215d9a6a4168120387d6e390b8                                Intercessory Prayer\n",
              "7  f82d6a5b5fbfd48bd293971f998d4da5                                  Nitti Development\n",
              "8  d2c160d8e526a8cd38a73b3186a06fbf                            Lakewood Organic Juices\n",
              "9  5485abaac8afc3f3807a92515aca3f2a                  Space Lieutenant Z Hippo Tomahawk"
            ]
          },
          "metadata": {
            "tags": []
          },
          "execution_count": 126
        }
      ]
    },
    {
      "cell_type": "code",
      "metadata": {
        "colab": {
          "base_uri": "https://localhost:8080/",
          "height": 359
        },
        "id": "QaMNPqqPGtPM",
        "outputId": "c8123ddb-aa83-44ba-d725-16e91c33107f"
      },
      "source": [
        "ul.head(10)  # head of the ul (which is userlikes)"
      ],
      "execution_count": 127,
      "outputs": [
        {
          "output_type": "execute_result",
          "data": {
            "text/html": [
              "<div>\n",
              "<style scoped>\n",
              "    .dataframe tbody tr th:only-of-type {\n",
              "        vertical-align: middle;\n",
              "    }\n",
              "\n",
              "    .dataframe tbody tr th {\n",
              "        vertical-align: top;\n",
              "    }\n",
              "\n",
              "    .dataframe thead th {\n",
              "        text-align: right;\n",
              "    }\n",
              "</style>\n",
              "<table border=\"1\" class=\"dataframe\">\n",
              "  <thead>\n",
              "    <tr style=\"text-align: right;\">\n",
              "      <th></th>\n",
              "      <th>userid</th>\n",
              "      <th>likeid</th>\n",
              "    </tr>\n",
              "  </thead>\n",
              "  <tbody>\n",
              "    <tr>\n",
              "      <th>0</th>\n",
              "      <td>71bc7c0901488aec6d30f0add257e7c5</td>\n",
              "      <td>3c1636c878e6eb2acfd00c6b61086e38</td>\n",
              "    </tr>\n",
              "    <tr>\n",
              "      <th>1</th>\n",
              "      <td>978ab8e90c4d6ad1a48ef5c973b62f4d</td>\n",
              "      <td>feca46ddb8ef04f86172ace0cb7e004c</td>\n",
              "    </tr>\n",
              "    <tr>\n",
              "      <th>2</th>\n",
              "      <td>85123b0e358907725cf19a2cb0ec3983</td>\n",
              "      <td>b65f46d64c688fe98bdbcf93a76a71fc</td>\n",
              "    </tr>\n",
              "    <tr>\n",
              "      <th>3</th>\n",
              "      <td>ce110562b3e2f7e5cad3775b32d9caa5</td>\n",
              "      <td>b65f46d64c688fe98bdbcf93a76a71fc</td>\n",
              "    </tr>\n",
              "    <tr>\n",
              "      <th>4</th>\n",
              "      <td>8188d20745471273fa69ba44a5b28473</td>\n",
              "      <td>b65f46d64c688fe98bdbcf93a76a71fc</td>\n",
              "    </tr>\n",
              "    <tr>\n",
              "      <th>5</th>\n",
              "      <td>e9c621f322640e5f3b3842d19b38aaa8</td>\n",
              "      <td>b65f46d64c688fe98bdbcf93a76a71fc</td>\n",
              "    </tr>\n",
              "    <tr>\n",
              "      <th>6</th>\n",
              "      <td>f0c99cfcdbda49dc424848666c6b31a9</td>\n",
              "      <td>b65f46d64c688fe98bdbcf93a76a71fc</td>\n",
              "    </tr>\n",
              "    <tr>\n",
              "      <th>7</th>\n",
              "      <td>7de7b4609c6b51d956d27050c958d885</td>\n",
              "      <td>b65f46d64c688fe98bdbcf93a76a71fc</td>\n",
              "    </tr>\n",
              "    <tr>\n",
              "      <th>8</th>\n",
              "      <td>05ce4ab49d90139ec1f7af9f0255c9c6</td>\n",
              "      <td>b65f46d64c688fe98bdbcf93a76a71fc</td>\n",
              "    </tr>\n",
              "    <tr>\n",
              "      <th>9</th>\n",
              "      <td>051caa763b05e64d4c8699078e942dfd</td>\n",
              "      <td>9c5c8bb82d2cd46fbd7582f944fe370e</td>\n",
              "    </tr>\n",
              "  </tbody>\n",
              "</table>\n",
              "</div>"
            ],
            "text/plain": [
              "                             userid                            likeid\n",
              "0  71bc7c0901488aec6d30f0add257e7c5  3c1636c878e6eb2acfd00c6b61086e38\n",
              "1  978ab8e90c4d6ad1a48ef5c973b62f4d  feca46ddb8ef04f86172ace0cb7e004c\n",
              "2  85123b0e358907725cf19a2cb0ec3983  b65f46d64c688fe98bdbcf93a76a71fc\n",
              "3  ce110562b3e2f7e5cad3775b32d9caa5  b65f46d64c688fe98bdbcf93a76a71fc\n",
              "4  8188d20745471273fa69ba44a5b28473  b65f46d64c688fe98bdbcf93a76a71fc\n",
              "5  e9c621f322640e5f3b3842d19b38aaa8  b65f46d64c688fe98bdbcf93a76a71fc\n",
              "6  f0c99cfcdbda49dc424848666c6b31a9  b65f46d64c688fe98bdbcf93a76a71fc\n",
              "7  7de7b4609c6b51d956d27050c958d885  b65f46d64c688fe98bdbcf93a76a71fc\n",
              "8  05ce4ab49d90139ec1f7af9f0255c9c6  b65f46d64c688fe98bdbcf93a76a71fc\n",
              "9  051caa763b05e64d4c8699078e942dfd  9c5c8bb82d2cd46fbd7582f944fe370e"
            ]
          },
          "metadata": {
            "tags": []
          },
          "execution_count": 127
        }
      ]
    },
    {
      "cell_type": "code",
      "metadata": {
        "id": "KKy79jz_3OAH"
      },
      "source": [
        "#userid for making user_row\n",
        "userid1= ul['userid'].to_frame() \n",
        "userid2= users['userid'].to_frame()\n",
        "users_row= userid2.reset_index().set_index('userid').loc[userid1.userid, 'index'].values\n",
        "users_row= [x+1 for x in users_row]\n",
        "ul['users_row'] = users_row # adding new column in dataframe with name 'user_row'"
      ],
      "execution_count": 128,
      "outputs": []
    },
    {
      "cell_type": "code",
      "metadata": {
        "colab": {
          "base_uri": "https://localhost:8080/",
          "height": 419
        },
        "id": "vL48aq-IvX_1",
        "outputId": "62d508d7-0e3c-457a-8ff5-4c53d12766ef"
      },
      "source": [
        "ul"
      ],
      "execution_count": 129,
      "outputs": [
        {
          "output_type": "execute_result",
          "data": {
            "text/html": [
              "<div>\n",
              "<style scoped>\n",
              "    .dataframe tbody tr th:only-of-type {\n",
              "        vertical-align: middle;\n",
              "    }\n",
              "\n",
              "    .dataframe tbody tr th {\n",
              "        vertical-align: top;\n",
              "    }\n",
              "\n",
              "    .dataframe thead th {\n",
              "        text-align: right;\n",
              "    }\n",
              "</style>\n",
              "<table border=\"1\" class=\"dataframe\">\n",
              "  <thead>\n",
              "    <tr style=\"text-align: right;\">\n",
              "      <th></th>\n",
              "      <th>userid</th>\n",
              "      <th>likeid</th>\n",
              "      <th>users_row</th>\n",
              "    </tr>\n",
              "  </thead>\n",
              "  <tbody>\n",
              "    <tr>\n",
              "      <th>0</th>\n",
              "      <td>71bc7c0901488aec6d30f0add257e7c5</td>\n",
              "      <td>3c1636c878e6eb2acfd00c6b61086e38</td>\n",
              "      <td>59353</td>\n",
              "    </tr>\n",
              "    <tr>\n",
              "      <th>1</th>\n",
              "      <td>978ab8e90c4d6ad1a48ef5c973b62f4d</td>\n",
              "      <td>feca46ddb8ef04f86172ace0cb7e004c</td>\n",
              "      <td>36793</td>\n",
              "    </tr>\n",
              "    <tr>\n",
              "      <th>2</th>\n",
              "      <td>85123b0e358907725cf19a2cb0ec3983</td>\n",
              "      <td>b65f46d64c688fe98bdbcf93a76a71fc</td>\n",
              "      <td>30998</td>\n",
              "    </tr>\n",
              "    <tr>\n",
              "      <th>3</th>\n",
              "      <td>ce110562b3e2f7e5cad3775b32d9caa5</td>\n",
              "      <td>b65f46d64c688fe98bdbcf93a76a71fc</td>\n",
              "      <td>50637</td>\n",
              "    </tr>\n",
              "    <tr>\n",
              "      <th>4</th>\n",
              "      <td>8188d20745471273fa69ba44a5b28473</td>\n",
              "      <td>b65f46d64c688fe98bdbcf93a76a71fc</td>\n",
              "      <td>72224</td>\n",
              "    </tr>\n",
              "    <tr>\n",
              "      <th>...</th>\n",
              "      <td>...</td>\n",
              "      <td>...</td>\n",
              "      <td>...</td>\n",
              "    </tr>\n",
              "    <tr>\n",
              "      <th>10612321</th>\n",
              "      <td>264088faf4884d77e025a4ceda148b73</td>\n",
              "      <td>20458d0f521d4bd3a0903cf2113a43f3</td>\n",
              "      <td>10414</td>\n",
              "    </tr>\n",
              "    <tr>\n",
              "      <th>10612322</th>\n",
              "      <td>d498e43d700dbb0006b733aa912e49c7</td>\n",
              "      <td>20458d0f521d4bd3a0903cf2113a43f3</td>\n",
              "      <td>31290</td>\n",
              "    </tr>\n",
              "    <tr>\n",
              "      <th>10612323</th>\n",
              "      <td>76ac7130db7f6065c969402226b7053b</td>\n",
              "      <td>20458d0f521d4bd3a0903cf2113a43f3</td>\n",
              "      <td>44280</td>\n",
              "    </tr>\n",
              "    <tr>\n",
              "      <th>10612324</th>\n",
              "      <td>05dcd62425918392dc5d42f7550cbd9e</td>\n",
              "      <td>20458d0f521d4bd3a0903cf2113a43f3</td>\n",
              "      <td>47599</td>\n",
              "    </tr>\n",
              "    <tr>\n",
              "      <th>10612325</th>\n",
              "      <td>54817b9e5746a560f43dee41c5d459b8</td>\n",
              "      <td>20458d0f521d4bd3a0903cf2113a43f3</td>\n",
              "      <td>103985</td>\n",
              "    </tr>\n",
              "  </tbody>\n",
              "</table>\n",
              "<p>10612326 rows × 3 columns</p>\n",
              "</div>"
            ],
            "text/plain": [
              "                                    userid  ... users_row\n",
              "0         71bc7c0901488aec6d30f0add257e7c5  ...     59353\n",
              "1         978ab8e90c4d6ad1a48ef5c973b62f4d  ...     36793\n",
              "2         85123b0e358907725cf19a2cb0ec3983  ...     30998\n",
              "3         ce110562b3e2f7e5cad3775b32d9caa5  ...     50637\n",
              "4         8188d20745471273fa69ba44a5b28473  ...     72224\n",
              "...                                    ...  ...       ...\n",
              "10612321  264088faf4884d77e025a4ceda148b73  ...     10414\n",
              "10612322  d498e43d700dbb0006b733aa912e49c7  ...     31290\n",
              "10612323  76ac7130db7f6065c969402226b7053b  ...     44280\n",
              "10612324  05dcd62425918392dc5d42f7550cbd9e  ...     47599\n",
              "10612325  54817b9e5746a560f43dee41c5d459b8  ...    103985\n",
              "\n",
              "[10612326 rows x 3 columns]"
            ]
          },
          "metadata": {
            "tags": []
          },
          "execution_count": 129
        }
      ]
    },
    {
      "cell_type": "code",
      "metadata": {
        "id": "MgPP6goE3OCg"
      },
      "source": [
        "#likeid for making like_row\n",
        "likeid1= ul['likeid'].to_frame()\n",
        "likeid2= likes['likeid'].to_frame()\n",
        "like_row= likeid2.reset_index().set_index('likeid').loc[likeid1.likeid, 'index'].values\n",
        "like_row= [x+1 for x in like_row]\n",
        "ul['like_row'] = like_row # adding new column in dataframe with name 'like_row'"
      ],
      "execution_count": 130,
      "outputs": []
    },
    {
      "cell_type": "code",
      "metadata": {
        "colab": {
          "base_uri": "https://localhost:8080/",
          "height": 419
        },
        "id": "NdCgiAqX3OEc",
        "outputId": "e5861fe4-f27c-46f3-afa8-0d1f0832256f"
      },
      "source": [
        "ul"
      ],
      "execution_count": 131,
      "outputs": [
        {
          "output_type": "execute_result",
          "data": {
            "text/html": [
              "<div>\n",
              "<style scoped>\n",
              "    .dataframe tbody tr th:only-of-type {\n",
              "        vertical-align: middle;\n",
              "    }\n",
              "\n",
              "    .dataframe tbody tr th {\n",
              "        vertical-align: top;\n",
              "    }\n",
              "\n",
              "    .dataframe thead th {\n",
              "        text-align: right;\n",
              "    }\n",
              "</style>\n",
              "<table border=\"1\" class=\"dataframe\">\n",
              "  <thead>\n",
              "    <tr style=\"text-align: right;\">\n",
              "      <th></th>\n",
              "      <th>userid</th>\n",
              "      <th>likeid</th>\n",
              "      <th>users_row</th>\n",
              "      <th>like_row</th>\n",
              "    </tr>\n",
              "  </thead>\n",
              "  <tbody>\n",
              "    <tr>\n",
              "      <th>0</th>\n",
              "      <td>71bc7c0901488aec6d30f0add257e7c5</td>\n",
              "      <td>3c1636c878e6eb2acfd00c6b61086e38</td>\n",
              "      <td>59353</td>\n",
              "      <td>1</td>\n",
              "    </tr>\n",
              "    <tr>\n",
              "      <th>1</th>\n",
              "      <td>978ab8e90c4d6ad1a48ef5c973b62f4d</td>\n",
              "      <td>feca46ddb8ef04f86172ace0cb7e004c</td>\n",
              "      <td>36793</td>\n",
              "      <td>2</td>\n",
              "    </tr>\n",
              "    <tr>\n",
              "      <th>2</th>\n",
              "      <td>85123b0e358907725cf19a2cb0ec3983</td>\n",
              "      <td>b65f46d64c688fe98bdbcf93a76a71fc</td>\n",
              "      <td>30998</td>\n",
              "      <td>3</td>\n",
              "    </tr>\n",
              "    <tr>\n",
              "      <th>3</th>\n",
              "      <td>ce110562b3e2f7e5cad3775b32d9caa5</td>\n",
              "      <td>b65f46d64c688fe98bdbcf93a76a71fc</td>\n",
              "      <td>50637</td>\n",
              "      <td>3</td>\n",
              "    </tr>\n",
              "    <tr>\n",
              "      <th>4</th>\n",
              "      <td>8188d20745471273fa69ba44a5b28473</td>\n",
              "      <td>b65f46d64c688fe98bdbcf93a76a71fc</td>\n",
              "      <td>72224</td>\n",
              "      <td>3</td>\n",
              "    </tr>\n",
              "    <tr>\n",
              "      <th>...</th>\n",
              "      <td>...</td>\n",
              "      <td>...</td>\n",
              "      <td>...</td>\n",
              "      <td>...</td>\n",
              "    </tr>\n",
              "    <tr>\n",
              "      <th>10612321</th>\n",
              "      <td>264088faf4884d77e025a4ceda148b73</td>\n",
              "      <td>20458d0f521d4bd3a0903cf2113a43f3</td>\n",
              "      <td>10414</td>\n",
              "      <td>1580284</td>\n",
              "    </tr>\n",
              "    <tr>\n",
              "      <th>10612322</th>\n",
              "      <td>d498e43d700dbb0006b733aa912e49c7</td>\n",
              "      <td>20458d0f521d4bd3a0903cf2113a43f3</td>\n",
              "      <td>31290</td>\n",
              "      <td>1580284</td>\n",
              "    </tr>\n",
              "    <tr>\n",
              "      <th>10612323</th>\n",
              "      <td>76ac7130db7f6065c969402226b7053b</td>\n",
              "      <td>20458d0f521d4bd3a0903cf2113a43f3</td>\n",
              "      <td>44280</td>\n",
              "      <td>1580284</td>\n",
              "    </tr>\n",
              "    <tr>\n",
              "      <th>10612324</th>\n",
              "      <td>05dcd62425918392dc5d42f7550cbd9e</td>\n",
              "      <td>20458d0f521d4bd3a0903cf2113a43f3</td>\n",
              "      <td>47599</td>\n",
              "      <td>1580284</td>\n",
              "    </tr>\n",
              "    <tr>\n",
              "      <th>10612325</th>\n",
              "      <td>54817b9e5746a560f43dee41c5d459b8</td>\n",
              "      <td>20458d0f521d4bd3a0903cf2113a43f3</td>\n",
              "      <td>103985</td>\n",
              "      <td>1580284</td>\n",
              "    </tr>\n",
              "  </tbody>\n",
              "</table>\n",
              "<p>10612326 rows × 4 columns</p>\n",
              "</div>"
            ],
            "text/plain": [
              "                                    userid  ... like_row\n",
              "0         71bc7c0901488aec6d30f0add257e7c5  ...        1\n",
              "1         978ab8e90c4d6ad1a48ef5c973b62f4d  ...        2\n",
              "2         85123b0e358907725cf19a2cb0ec3983  ...        3\n",
              "3         ce110562b3e2f7e5cad3775b32d9caa5  ...        3\n",
              "4         8188d20745471273fa69ba44a5b28473  ...        3\n",
              "...                                    ...  ...      ...\n",
              "10612321  264088faf4884d77e025a4ceda148b73  ...  1580284\n",
              "10612322  d498e43d700dbb0006b733aa912e49c7  ...  1580284\n",
              "10612323  76ac7130db7f6065c969402226b7053b  ...  1580284\n",
              "10612324  05dcd62425918392dc5d42f7550cbd9e  ...  1580284\n",
              "10612325  54817b9e5746a560f43dee41c5d459b8  ...  1580284\n",
              "\n",
              "[10612326 rows x 4 columns]"
            ]
          },
          "metadata": {
            "tags": []
          },
          "execution_count": 131
        }
      ]
    },
    {
      "cell_type": "markdown",
      "metadata": {
        "id": "XJYv5EFuMfkL"
      },
      "source": [
        "## Challenge 2: Create the sparse user-likes matrix \n",
        "Create a **sparse matrix** that stores the data for the user-likes associations as described in the paper. The name of the user-likes matrix must be `M`, to keep the naming convention used in the paper. It is important that to store the data in a sparse matrix; you might need to research the topic of using sparse matrices in python (i.e. look at the `scipy.sparse` package and the `csr_matrix` class). *Hint: For this challenge,  you might find  the `merge` method from `pandas` library useful*. \n",
        "\n",
        "Once you create the matrix print its shape on the answer summary cell."
      ]
    },
    {
      "cell_type": "code",
      "metadata": {
        "id": "plmOg09xwcti"
      },
      "source": [
        "#\n",
        "# Your code goes here.\n",
        "# \n",
        "rows= ul['users_row'] -1\n",
        "cols= ul['like_row'] -1\n",
        "data = ul.index\n",
        "\n",
        "# library\n",
        "from scipy.sparse import csr_matrix\n",
        "\n",
        "###M = csr_matrix((data, (rows, cols)))\n",
        "M= csr_matrix((data, (rows, cols)))"
      ],
      "execution_count": 132,
      "outputs": []
    },
    {
      "cell_type": "code",
      "metadata": {
        "colab": {
          "base_uri": "https://localhost:8080/"
        },
        "id": "M9ypW2tszpEe",
        "outputId": "5b391060-cf59-4682-fd97-4f13b9c05e3c"
      },
      "source": [
        "#\n",
        "# Answer summary cell: Print the shapes of M.  \n",
        "#\n",
        "M.shape\n",
        "# it contains 110,728 number of users and 1580284 number of unique likes "
      ],
      "execution_count": 133,
      "outputs": [
        {
          "output_type": "execute_result",
          "data": {
            "text/plain": [
              "(110728, 1580284)"
            ]
          },
          "metadata": {
            "tags": []
          },
          "execution_count": 133
        }
      ]
    },
    {
      "cell_type": "markdown",
      "metadata": {
        "id": "TKJldPiWY5Tr"
      },
      "source": [
        "## Challege 3: Trim the sparse user-likes matrix M.\n",
        "The paper calls for the matrix `M` to be trimmed (i.e. to remove users which did not like a minimum number of posts and posts that did not receive a minimum number of likes). In this challenge, you are expected to implement the trimming preprocessing step as described in the paper. The resulting matrix must be a sparse matrix. *Hint: you might want to research to index slice sparse matrices in python*"
      ]
    },
    {
      "cell_type": "markdown",
      "metadata": {
        "id": "kJ7VXBn4EbGG"
      },
      "source": [
        "#### Professor reply on Canvas\n",
        "Assuming you have a csr_matrix M, and the indexes you would like to slice in variables row_idx, and col_idx, then the syntax for slicing the matrix would be something like.\n",
        "M[row_idx,:][:,col_idx]\n",
        "\n",
        "The first square bracket slices by rows and keeps all the columns; the second square bracket is applied on the resulting sliced matrix (from the previous operation) and it further slices it by columns. You can do this operation in two steps as well; for example, something like: \n",
        "\n",
        "M1 = M[row_idx,:]\n",
        "M2= M1[:,col_idx]\n",
        " \n",
        "Notice that for each square bracket pair, you need to specify both the rows and column indices (: means all indices in that dimension) \n",
        "Hint 1: Finally, in the case of the paper, this slicing need to be repeated multiple times until no rows or columns are below the threshold. \n",
        "Hint 2: Slicing the matrix M affects the ordering of the 'users' and 'likes' ordering...\n",
        "Hope this helps"
      ]
    },
    {
      "cell_type": "code",
      "metadata": {
        "colab": {
          "base_uri": "https://localhost:8080/"
        },
        "id": "PezkDcQov8xC",
        "outputId": "cf052a8d-5ac9-45ce-e21a-84f4bce33a48"
      },
      "source": [
        "users.shape\n",
        "#here is the original users with 110728 numbers"
      ],
      "execution_count": 134,
      "outputs": [
        {
          "output_type": "execute_result",
          "data": {
            "text/plain": [
              "(110728, 9)"
            ]
          },
          "metadata": {
            "tags": []
          },
          "execution_count": 134
        }
      ]
    },
    {
      "cell_type": "code",
      "metadata": {
        "id": "TeYLilUPHm6H"
      },
      "source": [
        "#document reference: https://docs.scipy.org/doc/scipy/reference/generated/scipy.sparse.csr_matrix.getnnz.html\n",
        "#getnnz:  https://stackoverflow.com/questions/31188141/scipy-sparse-matrix-remove-the-rows-whose-all-elements-are-zero/35905815\n",
        "#\n",
        "# Your code here. \n",
        "# \n",
        "\n",
        "M = M[M.getnnz(1)>=50] # for the row that is greater and equal to 50\n",
        "M = M[:,M.getnnz(0)>=150]   # for the column that is greater and equal to 150"
      ],
      "execution_count": 135,
      "outputs": []
    },
    {
      "cell_type": "code",
      "metadata": {
        "id": "63c55i-CAZ9h"
      },
      "source": [
        "#while loop for Trimming the User-Like Matrix same idea as paper\n",
        "while 100>99:\n",
        "  i = M.shape[0]\n",
        "  M = M[M.getnnz(1)>=50] # for the row that is greater and equal to 50\n",
        "  M = M[:,M.getnnz(0)>=150] # for the column that is greater and equal to 150\n",
        "  M = M[M.getnnz(1)>=50] # repeat untill it reach the threshold\n",
        "  if M.shape[0] == i:\n",
        "    break\n",
        "  else:\n",
        "    continue"
      ],
      "execution_count": 136,
      "outputs": []
    },
    {
      "cell_type": "code",
      "metadata": {
        "id": "0vTMS4KUvAE8"
      },
      "source": [
        "# users deleted from M are removed from the users object: \n",
        "users = users[users.index.isin(M.indices)] # to check the usersmatch "
      ],
      "execution_count": 137,
      "outputs": []
    },
    {
      "cell_type": "code",
      "metadata": {
        "colab": {
          "base_uri": "https://localhost:8080/"
        },
        "id": "htqWm35rvFYK",
        "outputId": "ecbc0824-6531-4da5-e102-6b639451c186"
      },
      "source": [
        "users.shape\n",
        "# now, we see 8523 likes of the users"
      ],
      "execution_count": 138,
      "outputs": [
        {
          "output_type": "execute_result",
          "data": {
            "text/plain": [
              "(8523, 9)"
            ]
          },
          "metadata": {
            "tags": []
          },
          "execution_count": 138
        }
      ]
    },
    {
      "cell_type": "code",
      "metadata": {
        "colab": {
          "base_uri": "https://localhost:8080/"
        },
        "id": "6ywuRl88caaG",
        "outputId": "7de96ba9-4a19-447d-b28d-4884367f49ff"
      },
      "source": [
        "#\n",
        "# Answer summary cell:  Print the shape of the matrix M after trimming. \n",
        "# \n",
        "M.shape\n",
        "#After trimmed Matrix M now, it contains 19,742 users and 8523 likes "
      ],
      "execution_count": 139,
      "outputs": [
        {
          "output_type": "execute_result",
          "data": {
            "text/plain": [
              "(19742, 8523)"
            ]
          },
          "metadata": {
            "tags": []
          },
          "execution_count": 139
        }
      ]
    },
    {
      "cell_type": "code",
      "metadata": {
        "colab": {
          "base_uri": "https://localhost:8080/"
        },
        "id": "Qm5ChHNpHFH1",
        "outputId": "57583006-9a6f-4a3b-bb85-c41c8c8dbcce"
      },
      "source": [
        "M"
      ],
      "execution_count": 140,
      "outputs": [
        {
          "output_type": "execute_result",
          "data": {
            "text/plain": [
              "<19742x8523 sparse matrix of type '<class 'numpy.longlong'>'\n",
              "\twith 3817840 stored elements in Compressed Sparse Row format>"
            ]
          },
          "metadata": {
            "tags": []
          },
          "execution_count": 140
        }
      ]
    },
    {
      "cell_type": "markdown",
      "metadata": {
        "id": "CPCmSbfCcs4P"
      },
      "source": [
        "## Challenge 4:  Split the sparse matrix into a training and testing matrices\n",
        "To build a prediction model the paper calls for separating the data matrix (i.e. the user-like matrix) into a training and testing matrices. As part of this challenge, you need to create a training matrix `M_train` that includes the preferences of 80% of the users, and a testing matrix `M_test` that include the preferences of the remaining 20% of the users in the dataset. Both matrices `M_train` and `M_test` must be stored as sparse matrices. User will be randomly assigned to the training or testing set.\n",
        "\n",
        "Print the shapes of the `M_train` and `M_test` matrices.\n",
        "\n",
        "\n"
      ]
    },
    {
      "cell_type": "code",
      "metadata": {
        "id": "h1avbiXTygvz"
      },
      "source": [
        "#\n",
        "# Your code here. \n",
        "#\n",
        "from sklearn.model_selection import train_test_split\n",
        "\n",
        "#spliting data for training and testing \n",
        "M_train, M_test = train_test_split(M,test_size = .20, train_size= .80 , random_state= 42)\n"
      ],
      "execution_count": 141,
      "outputs": []
    },
    {
      "cell_type": "code",
      "metadata": {
        "colab": {
          "base_uri": "https://localhost:8080/"
        },
        "id": "vbTijUQ0ykDn",
        "outputId": "20fe0025-f7d4-4988-b9bc-d34df2c5968c"
      },
      "source": [
        "#\n",
        "# Answer summary cell: Print the shapes of M_train, M_test and M matrices.  \n",
        "# \n",
        " #shapes of M_train\n",
        "M_train.shape\n",
        "#After spliting we have 15793 users in Training (which is 70% of the data) and 8523 likes "
      ],
      "execution_count": 142,
      "outputs": [
        {
          "output_type": "execute_result",
          "data": {
            "text/plain": [
              "(15793, 8523)"
            ]
          },
          "metadata": {
            "tags": []
          },
          "execution_count": 142
        }
      ]
    },
    {
      "cell_type": "code",
      "metadata": {
        "colab": {
          "base_uri": "https://localhost:8080/"
        },
        "id": "tw3kdDGD7or9",
        "outputId": "f8a1f8d5-1b94-4880-a1d0-20cecfe93615"
      },
      "source": [
        " # shapes of M_train\n",
        " M_test.shape\n",
        "#After spliting we have 3949 users in Testing (which is 20% of the data) and 8523 likes "
      ],
      "execution_count": 143,
      "outputs": [
        {
          "output_type": "execute_result",
          "data": {
            "text/plain": [
              "(3949, 8523)"
            ]
          },
          "metadata": {
            "tags": []
          },
          "execution_count": 143
        }
      ]
    },
    {
      "cell_type": "code",
      "metadata": {
        "colab": {
          "base_uri": "https://localhost:8080/"
        },
        "id": "pjC-bMdE__wG",
        "outputId": "96774724-adcd-4c6b-b254-afb873f9cc7b"
      },
      "source": [
        " # shapes of M_test\n",
        " M.shape\n",
        "#After trimmed Matrix M now, it contains 19,742 users and 8523 likes "
      ],
      "execution_count": 144,
      "outputs": [
        {
          "output_type": "execute_result",
          "data": {
            "text/plain": [
              "(19742, 8523)"
            ]
          },
          "metadata": {
            "tags": []
          },
          "execution_count": 144
        }
      ]
    },
    {
      "cell_type": "markdown",
      "metadata": {
        "id": "3cPhHjAdciZP"
      },
      "source": [
        "## Challege 5 : Reduce the dimensionality of the M_train matrix using SVD\n",
        "\n",
        "In this challenge, you must use singular value decomposition (SVD) to reduce the dimensionality of the training matrix `M_train`. Remember that `M_train` is encoded as a sparse matrix so you would need to use an appropriate implementation of the SVD for sparse matrices. Your output should be the matrices `U`, `S` and `Vt` that correspond to the left singular vectors, the singular values, and the right singular vectors, respectively. You must specify a parameter `k` that defines the number of reduced dimensions you want to keep.\n",
        "\n",
        "Print the shapes of the `U`, `S` and `Vt` matrices and the value you selected for parameter `k`.\n",
        "\n"
      ]
    },
    {
      "cell_type": "code",
      "metadata": {
        "colab": {
          "base_uri": "https://localhost:8080/"
        },
        "id": "yiOfWdvb9alx",
        "outputId": "71b03af2-808a-4066-cb70-bd856f175710"
      },
      "source": [
        "#\n",
        "# Your code here. \n",
        "#\n",
        "\n",
        "#LIBRARY\n",
        "from scipy.sparse.linalg import svds, eigs\n",
        "\n",
        "R = 5 \n",
        "#the SVD is commonly written as a = U S V.H. the v returned by this function is V.H and u= U\n",
        "U, s, Vt = svds(M_train.astype('float'),R)\n",
        "#U, sigma, Vt =np.linalg.svd(M)\n",
        "\n",
        "#Note: return V is actually V^T in the formula \n",
        "print(\"V^T = \")\n",
        "print(np.round(Vt, decimals =2))"
      ],
      "execution_count": 145,
      "outputs": [
        {
          "output_type": "stream",
          "text": [
            "V^T = \n",
            "[[ 0.    0.    0.   ...  0.03  0.02  0.02]\n",
            " [-0.   -0.   -0.   ...  0.   -0.01  0.01]\n",
            " [ 0.    0.    0.   ... -0.01  0.01 -0.01]\n",
            " [ 0.   -0.   -0.   ...  0.01  0.03  0.01]\n",
            " [ 0.    0.    0.   ...  0.01  0.03  0.01]]\n"
          ],
          "name": "stdout"
        }
      ]
    },
    {
      "cell_type": "code",
      "metadata": {
        "colab": {
          "base_uri": "https://localhost:8080/"
        },
        "id": "aTMyNU8f9aoK",
        "outputId": "668138ed-8c66-4e4e-8131-c5099887dc22"
      },
      "source": [
        "#\n",
        "# Answer summary cell: Print the shapes of U, S and Vt; and the value you selected for parameter `k`.\n",
        "# \n",
        "\n",
        "#dimensions of the resulting matrices\n",
        "print(f\"U.shape: {U.shape}\\nsigma.shape:{s.shape}\\nVt.shape: {Vt.shape}\\nThe value selected for parameter k: 5 \")"
      ],
      "execution_count": 146,
      "outputs": [
        {
          "output_type": "stream",
          "text": [
            "U.shape: (15793, 5)\n",
            "sigma.shape:(5,)\n",
            "Vt.shape: (5, 8523)\n",
            "The value selected for parameter k: 5 \n"
          ],
          "name": "stdout"
        }
      ]
    },
    {
      "cell_type": "code",
      "metadata": {
        "colab": {
          "base_uri": "https://localhost:8080/"
        },
        "id": "1gs5ZEByXzlD",
        "outputId": "b14ca503-79c9-425b-a9ed-ab51e5da27af"
      },
      "source": [
        "s"
      ],
      "execution_count": 147,
      "outputs": [
        {
          "output_type": "execute_result",
          "data": {
            "text/plain": [
              "array([1.00084894e+09, 1.15760836e+09, 1.29670752e+09, 2.24214366e+09,\n",
              "       3.72552495e+09])"
            ]
          },
          "metadata": {
            "tags": []
          },
          "execution_count": 147
        }
      ]
    },
    {
      "cell_type": "code",
      "metadata": {
        "colab": {
          "base_uri": "https://localhost:8080/",
          "height": 310
        },
        "id": "NrSlKquTbau5",
        "outputId": "4e2af2ef-b6cf-498e-c286-b7d79ce80c3d"
      },
      "source": [
        "#check the singular Values\n",
        "#note how many singular values capture most of the variance \n",
        "plt.plot(s)\n",
        "s.shape\n",
        "print(s)"
      ],
      "execution_count": 148,
      "outputs": [
        {
          "output_type": "stream",
          "text": [
            "[1.00084894e+09 1.15760836e+09 1.29670752e+09 2.24214366e+09\n",
            " 3.72552495e+09]\n"
          ],
          "name": "stdout"
        },
        {
          "output_type": "display_data",
          "data": {
            "image/png": "[encoded data removed]",
            "text/plain": [
              "<Figure size 432x288 with 1 Axes>"
            ]
          },
          "metadata": {
            "tags": [],
            "needs_background": "light"
          }
        }
      ]
    },
    {
      "cell_type": "markdown",
      "metadata": {
        "id": "YJa9qQVr1vmv"
      },
      "source": [
        "## Challege 6 : Use the varimax algorithm to rotate the SVD dimensions. \n",
        "Use the varimax algorithm to rotate the SVD dimensions as described in the paper. A good python library that implements varimax algorithm is the `factor_analyzer` and its `Rotator` class (already installed in this notebook for your in the started cell above); i.e. using `rotator = Rotator(method='varimax')`. Store the varimax SVD into the matrices `U_rot` and `V_rot` respectively. *Hint: you can apply varimax of `Vt` to get `V_rot` and then multiply `M` by  `Vt_rot` to obtain the `U_rot` (as done in the paper); you might want to research hot to user the `Rotator` class*. \n",
        "\n",
        "Print the shapes of the matrices `U_rot` and `V_rot`.\n"
      ]
    },
    {
      "cell_type": "code",
      "metadata": {
        "id": "pxGmf_MN4KH0"
      },
      "source": [
        "#\n",
        "# Your code here. \n",
        "#\n",
        "\n",
        "#library\n",
        "from factor_analyzer import Rotator\n",
        "\n",
        "rotator= Rotator(method='varimax')\n",
        "V_rot = rotator.fit_transform(Vt)"
      ],
      "execution_count": 32,
      "outputs": []
    },
    {
      "cell_type": "code",
      "metadata": {
        "colab": {
          "base_uri": "https://localhost:8080/"
        },
        "id": "wgUk6DxuEwIf",
        "outputId": "6a81bd08-0868-45d7-fbee-7cc2f653e392"
      },
      "source": [
        "V_rot.shape"
      ],
      "execution_count": 33,
      "outputs": [
        {
          "output_type": "execute_result",
          "data": {
            "text/plain": [
              "(5, 8523)"
            ]
          },
          "metadata": {
            "tags": []
          },
          "execution_count": 33
        }
      ]
    },
    {
      "cell_type": "code",
      "metadata": {
        "id": "T5aP8XLB2W0B"
      },
      "source": [
        "V_rot= V_rot.T"
      ],
      "execution_count": 34,
      "outputs": []
    },
    {
      "cell_type": "code",
      "metadata": {
        "id": "4jplPcZk2ave"
      },
      "source": [
        "U_rot = M_train*V_rot"
      ],
      "execution_count": 35,
      "outputs": []
    },
    {
      "cell_type": "code",
      "metadata": {
        "id": "v_2U3n2X4h_0",
        "colab": {
          "base_uri": "https://localhost:8080/"
        },
        "outputId": "4e84818b-7bbd-490d-cf22-9038cde5f685"
      },
      "source": [
        "#\n",
        "# Answer summary cell: Print the shapes of the matrices `U_rot` and `V_rot`\n",
        "# \n",
        "\n",
        "#shape of matrices U_rot\n",
        "U_rot.shape"
      ],
      "execution_count": 36,
      "outputs": [
        {
          "output_type": "execute_result",
          "data": {
            "text/plain": [
              "(15793, 5)"
            ]
          },
          "metadata": {
            "tags": []
          },
          "execution_count": 36
        }
      ]
    },
    {
      "cell_type": "code",
      "metadata": {
        "id": "04VhbGGP2b9G",
        "colab": {
          "base_uri": "https://localhost:8080/"
        },
        "outputId": "71230610-891d-488e-eefd-452a226bf3bf"
      },
      "source": [
        "#shape of matrices V_rot\n",
        "V_rot.shape"
      ],
      "execution_count": 37,
      "outputs": [
        {
          "output_type": "execute_result",
          "data": {
            "text/plain": [
              "(8523, 5)"
            ]
          },
          "metadata": {
            "tags": []
          },
          "execution_count": 37
        }
      ]
    },
    {
      "cell_type": "markdown",
      "metadata": {
        "id": "Lp0BpsHd4wfg"
      },
      "source": [
        "## Challenge 7 : Train two predictive model to predict the political  affilication of users.\n",
        "Build a predictive model that predicts the political affiliation of the users given the user's post preferences (as those are captured in the paper's dataset). To train your model you can use data from matrix `M_train` only. You are expected to use two different predictive models of your choice (i.e. Knn, SVM, Logistic Regression or some other model of your choice).\n",
        "\n",
        "As part of this challenge you are expected to:\n",
        "- Apply any necessary preprocessing to handle missing values.\n",
        "- The models must be applied on the reduced-dimensional feature generated by your analysis above (i.e. use the singular rotated singular dimensions)\n",
        "- Use cross-validation for model selection (i.e. to identify optimal parameters for your model, or any meta-parameters)\n",
        "- Report training and cross-validation performance of the two models as well as the optimal parameters for your model identified by cross validation. \n"
      ]
    },
    {
      "cell_type": "markdown",
      "metadata": {
        "id": "iiQ_wRcs7pA7"
      },
      "source": [
        "**FIRST MODEL TRAINING: Use the cells below to train the predictive model using the first model you selected.**"
      ]
    },
    {
      "cell_type": "code",
      "metadata": {
        "id": "WK6Yd4hf7fAA"
      },
      "source": [
        "#\n",
        "# Use this cell to train the first model you selected for challenge 7. \n",
        "# Add additional cells as needed below this cell.\n",
        "#\n"
      ],
      "execution_count": null,
      "outputs": []
    },
    {
      "cell_type": "code",
      "metadata": {
        "colab": {
          "base_uri": "https://localhost:8080/"
        },
        "id": "62zR76hejR2m",
        "outputId": "228c3d47-c4f0-451e-9d23-24d96d37a3e8"
      },
      "source": [
        "#checking if there is any missing value in the users dataset\n",
        "users.isnull().sum()"
      ],
      "execution_count": 149,
      "outputs": [
        {
          "output_type": "execute_result",
          "data": {
            "text/plain": [
              "userid          0\n",
              "gender          0\n",
              "age             0\n",
              "political    5300\n",
              "ope             0\n",
              "con             0\n",
              "ext             0\n",
              "agr             0\n",
              "neu             0\n",
              "dtype: int64"
            ]
          },
          "metadata": {
            "tags": []
          },
          "execution_count": 149
        }
      ]
    },
    {
      "cell_type": "code",
      "metadata": {
        "id": "93e7h5bJRYf_"
      },
      "source": [
        "X_train = M_train * Vt.T  \n",
        "X_test = M_test * Vt.T"
      ],
      "execution_count": 168,
      "outputs": []
    },
    {
      "cell_type": "code",
      "metadata": {
        "colab": {
          "base_uri": "https://localhost:8080/"
        },
        "id": "jpkRn4C0Y895",
        "outputId": "dff0f12d-66d9-47f1-b626-55e8cbbf369e"
      },
      "source": [
        "X_train.shape"
      ],
      "execution_count": 169,
      "outputs": [
        {
          "output_type": "execute_result",
          "data": {
            "text/plain": [
              "(3223, 5)"
            ]
          },
          "metadata": {
            "tags": []
          },
          "execution_count": 169
        }
      ]
    },
    {
      "cell_type": "code",
      "metadata": {
        "colab": {
          "base_uri": "https://localhost:8080/"
        },
        "id": "9ItkZI2JY9Am",
        "outputId": "c96126b8-5226-417f-bed3-affc2a29dd56"
      },
      "source": [
        "X_test.shape"
      ],
      "execution_count": 170,
      "outputs": [
        {
          "output_type": "execute_result",
          "data": {
            "text/plain": [
              "(3223, 5)"
            ]
          },
          "metadata": {
            "tags": []
          },
          "execution_count": 170
        }
      ]
    },
    {
      "cell_type": "code",
      "metadata": {
        "id": "F60HTnnfn5jg"
      },
      "source": [
        "users= users.dropna()"
      ],
      "execution_count": 154,
      "outputs": []
    },
    {
      "cell_type": "code",
      "metadata": {
        "colab": {
          "base_uri": "https://localhost:8080/"
        },
        "id": "ntYvTalon5l_",
        "outputId": "964e3963-2dac-4904-9df2-ffe1832bcfaa"
      },
      "source": [
        "users.isnull().sum()"
      ],
      "execution_count": 155,
      "outputs": [
        {
          "output_type": "execute_result",
          "data": {
            "text/plain": [
              "userid       0\n",
              "gender       0\n",
              "age          0\n",
              "political    0\n",
              "ope          0\n",
              "con          0\n",
              "ext          0\n",
              "agr          0\n",
              "neu          0\n",
              "dtype: int64"
            ]
          },
          "metadata": {
            "tags": []
          },
          "execution_count": 155
        }
      ]
    },
    {
      "cell_type": "code",
      "metadata": {
        "colab": {
          "base_uri": "https://localhost:8080/"
        },
        "id": "tZHLLvwGn5oj",
        "outputId": "921d95c2-b46e-4b92-b7b3-677f5544aadc"
      },
      "source": [
        "users['political'].value_counts()"
      ],
      "execution_count": 156,
      "outputs": [
        {
          "output_type": "execute_result",
          "data": {
            "text/plain": [
              "0.0    2335\n",
              "1.0     888\n",
              "Name: political, dtype: int64"
            ]
          },
          "metadata": {
            "tags": []
          },
          "execution_count": 156
        }
      ]
    },
    {
      "cell_type": "code",
      "metadata": {
        "id": "XiOfJrl0n5sE"
      },
      "source": [
        "M_train= M_train[users.index.isin(M_train.indices)]"
      ],
      "execution_count": 158,
      "outputs": []
    },
    {
      "cell_type": "code",
      "metadata": {
        "colab": {
          "base_uri": "https://localhost:8080/"
        },
        "id": "4_ojIevDopoz",
        "outputId": "db8fe251-0ea1-432c-ca60-94fbce91800e"
      },
      "source": [
        "M_train.shape"
      ],
      "execution_count": 160,
      "outputs": [
        {
          "output_type": "execute_result",
          "data": {
            "text/plain": [
              "(3223, 8523)"
            ]
          },
          "metadata": {
            "tags": []
          },
          "execution_count": 160
        }
      ]
    },
    {
      "cell_type": "code",
      "metadata": {
        "id": "QNA8HeVLn5wA"
      },
      "source": [
        "M_test= M_test[users.index.isin(M_test.indices)] #removing index after removing nulls"
      ],
      "execution_count": 159,
      "outputs": []
    },
    {
      "cell_type": "code",
      "metadata": {
        "colab": {
          "base_uri": "https://localhost:8080/"
        },
        "id": "xXb0SCDUorzG",
        "outputId": "3c13e574-8ba5-4912-9503-c84ed44493e9"
      },
      "source": [
        "M_test.shape"
      ],
      "execution_count": 161,
      "outputs": [
        {
          "output_type": "execute_result",
          "data": {
            "text/plain": [
              "(3223, 8523)"
            ]
          },
          "metadata": {
            "tags": []
          },
          "execution_count": 161
        }
      ]
    },
    {
      "cell_type": "code",
      "metadata": {
        "id": "bmrQPKVjlNk7"
      },
      "source": [
        "users = users[users['political'].index.isin(M.indices)] #removing index after removing nulls"
      ],
      "execution_count": 108,
      "outputs": []
    },
    {
      "cell_type": "code",
      "metadata": {
        "colab": {
          "base_uri": "https://localhost:8080/",
          "height": 419
        },
        "id": "Tn7qx6uPlNnT",
        "outputId": "9d4d6d3a-6bd9-454d-a4fe-8cd20bfa661c"
      },
      "source": [
        "users"
      ],
      "execution_count": 162,
      "outputs": [
        {
          "output_type": "execute_result",
          "data": {
            "text/html": [
              "<div>\n",
              "<style scoped>\n",
              "    .dataframe tbody tr th:only-of-type {\n",
              "        vertical-align: middle;\n",
              "    }\n",
              "\n",
              "    .dataframe tbody tr th {\n",
              "        vertical-align: top;\n",
              "    }\n",
              "\n",
              "    .dataframe thead th {\n",
              "        text-align: right;\n",
              "    }\n",
              "</style>\n",
              "<table border=\"1\" class=\"dataframe\">\n",
              "  <thead>\n",
              "    <tr style=\"text-align: right;\">\n",
              "      <th></th>\n",
              "      <th>userid</th>\n",
              "      <th>gender</th>\n",
              "      <th>age</th>\n",
              "      <th>political</th>\n",
              "      <th>ope</th>\n",
              "      <th>con</th>\n",
              "      <th>ext</th>\n",
              "      <th>agr</th>\n",
              "      <th>neu</th>\n",
              "    </tr>\n",
              "  </thead>\n",
              "  <tbody>\n",
              "    <tr>\n",
              "      <th>0</th>\n",
              "      <td>54f34605aebd63f7680e37ffd299af79</td>\n",
              "      <td>0</td>\n",
              "      <td>33</td>\n",
              "      <td>0.0</td>\n",
              "      <td>1.26</td>\n",
              "      <td>1.65</td>\n",
              "      <td>1.17</td>\n",
              "      <td>-1.76</td>\n",
              "      <td>0.61</td>\n",
              "    </tr>\n",
              "    <tr>\n",
              "      <th>1</th>\n",
              "      <td>86399f8c44ba54224b2e60177ca89fa9</td>\n",
              "      <td>1</td>\n",
              "      <td>35</td>\n",
              "      <td>0.0</td>\n",
              "      <td>1.07</td>\n",
              "      <td>0.17</td>\n",
              "      <td>-0.14</td>\n",
              "      <td>1.49</td>\n",
              "      <td>0.30</td>\n",
              "    </tr>\n",
              "    <tr>\n",
              "      <th>2</th>\n",
              "      <td>84fab50f3c60d1fdc83aa91b5e584a78</td>\n",
              "      <td>1</td>\n",
              "      <td>36</td>\n",
              "      <td>0.0</td>\n",
              "      <td>0.89</td>\n",
              "      <td>1.28</td>\n",
              "      <td>0.86</td>\n",
              "      <td>1.07</td>\n",
              "      <td>0.99</td>\n",
              "    </tr>\n",
              "    <tr>\n",
              "      <th>9</th>\n",
              "      <td>db85e9a0b1ab33ab7be878b9c236e7f2</td>\n",
              "      <td>1</td>\n",
              "      <td>33</td>\n",
              "      <td>0.0</td>\n",
              "      <td>0.70</td>\n",
              "      <td>0.54</td>\n",
              "      <td>-0.27</td>\n",
              "      <td>-0.26</td>\n",
              "      <td>0.92</td>\n",
              "    </tr>\n",
              "    <tr>\n",
              "      <th>11</th>\n",
              "      <td>893533760a94f3539d9398a7ed9b01fa</td>\n",
              "      <td>0</td>\n",
              "      <td>35</td>\n",
              "      <td>0.0</td>\n",
              "      <td>1.16</td>\n",
              "      <td>-0.35</td>\n",
              "      <td>1.11</td>\n",
              "      <td>-0.09</td>\n",
              "      <td>-1.69</td>\n",
              "    </tr>\n",
              "    <tr>\n",
              "      <th>...</th>\n",
              "      <td>...</td>\n",
              "      <td>...</td>\n",
              "      <td>...</td>\n",
              "      <td>...</td>\n",
              "      <td>...</td>\n",
              "      <td>...</td>\n",
              "      <td>...</td>\n",
              "      <td>...</td>\n",
              "      <td>...</td>\n",
              "    </tr>\n",
              "    <tr>\n",
              "      <th>8506</th>\n",
              "      <td>3f79c587abd3cea60899d106c8914dbf</td>\n",
              "      <td>1</td>\n",
              "      <td>30</td>\n",
              "      <td>0.0</td>\n",
              "      <td>1.26</td>\n",
              "      <td>0.62</td>\n",
              "      <td>1.36</td>\n",
              "      <td>0.49</td>\n",
              "      <td>-0.88</td>\n",
              "    </tr>\n",
              "    <tr>\n",
              "      <th>8507</th>\n",
              "      <td>cd7cec9e87fb7ad5be8c70514b00f74c</td>\n",
              "      <td>0</td>\n",
              "      <td>30</td>\n",
              "      <td>1.0</td>\n",
              "      <td>-0.87</td>\n",
              "      <td>0.32</td>\n",
              "      <td>1.29</td>\n",
              "      <td>0.16</td>\n",
              "      <td>-1.32</td>\n",
              "    </tr>\n",
              "    <tr>\n",
              "      <th>8511</th>\n",
              "      <td>ed0deeed48d4cc2fe60fb028ae223ede</td>\n",
              "      <td>1</td>\n",
              "      <td>30</td>\n",
              "      <td>1.0</td>\n",
              "      <td>-1.15</td>\n",
              "      <td>-0.27</td>\n",
              "      <td>0.79</td>\n",
              "      <td>-0.39</td>\n",
              "      <td>0.18</td>\n",
              "    </tr>\n",
              "    <tr>\n",
              "      <th>8513</th>\n",
              "      <td>3835cdd43dbd19af0798b922456155f3</td>\n",
              "      <td>0</td>\n",
              "      <td>29</td>\n",
              "      <td>1.0</td>\n",
              "      <td>0.89</td>\n",
              "      <td>0.25</td>\n",
              "      <td>-0.52</td>\n",
              "      <td>0.32</td>\n",
              "      <td>0.80</td>\n",
              "    </tr>\n",
              "    <tr>\n",
              "      <th>8515</th>\n",
              "      <td>73fdcae324bd3fba2b238676cdd7976c</td>\n",
              "      <td>0</td>\n",
              "      <td>33</td>\n",
              "      <td>1.0</td>\n",
              "      <td>0.52</td>\n",
              "      <td>0.54</td>\n",
              "      <td>0.36</td>\n",
              "      <td>0.49</td>\n",
              "      <td>-0.45</td>\n",
              "    </tr>\n",
              "  </tbody>\n",
              "</table>\n",
              "<p>3223 rows × 9 columns</p>\n",
              "</div>"
            ],
            "text/plain": [
              "                                userid  gender  age  ...   ext   agr   neu\n",
              "0     54f34605aebd63f7680e37ffd299af79       0   33  ...  1.17 -1.76  0.61\n",
              "1     86399f8c44ba54224b2e60177ca89fa9       1   35  ... -0.14  1.49  0.30\n",
              "2     84fab50f3c60d1fdc83aa91b5e584a78       1   36  ...  0.86  1.07  0.99\n",
              "9     db85e9a0b1ab33ab7be878b9c236e7f2       1   33  ... -0.27 -0.26  0.92\n",
              "11    893533760a94f3539d9398a7ed9b01fa       0   35  ...  1.11 -0.09 -1.69\n",
              "...                                ...     ...  ...  ...   ...   ...   ...\n",
              "8506  3f79c587abd3cea60899d106c8914dbf       1   30  ...  1.36  0.49 -0.88\n",
              "8507  cd7cec9e87fb7ad5be8c70514b00f74c       0   30  ...  1.29  0.16 -1.32\n",
              "8511  ed0deeed48d4cc2fe60fb028ae223ede       1   30  ...  0.79 -0.39  0.18\n",
              "8513  3835cdd43dbd19af0798b922456155f3       0   29  ... -0.52  0.32  0.80\n",
              "8515  73fdcae324bd3fba2b238676cdd7976c       0   33  ...  0.36  0.49 -0.45\n",
              "\n",
              "[3223 rows x 9 columns]"
            ]
          },
          "metadata": {
            "tags": []
          },
          "execution_count": 162
        }
      ]
    },
    {
      "cell_type": "code",
      "metadata": {
        "id": "R9aVvNMyr8SD"
      },
      "source": [
        "X_train = M_train * Vt.T  \n",
        "X_test = M_test * Vt.T"
      ],
      "execution_count": 172,
      "outputs": []
    },
    {
      "cell_type": "code",
      "metadata": {
        "id": "mN8y4QWBsOQV"
      },
      "source": [
        "X_train, X_test = train_test_split(X_train,test_size = .20, train_size= .80, random_state=42)"
      ],
      "execution_count": 175,
      "outputs": []
    },
    {
      "cell_type": "code",
      "metadata": {
        "id": "r4k10zLtqQQ-"
      },
      "source": [
        "y_train, y_test = train_test_split(users['political'],test_size = .20, train_size= .80, random_state=42)"
      ],
      "execution_count": 165,
      "outputs": []
    },
    {
      "cell_type": "code",
      "metadata": {
        "colab": {
          "base_uri": "https://localhost:8080/"
        },
        "id": "nWkLUR-NrNUP",
        "outputId": "360467ff-30ba-47c9-d82a-772c834bdd56"
      },
      "source": [
        "y_train.shape"
      ],
      "execution_count": 166,
      "outputs": [
        {
          "output_type": "execute_result",
          "data": {
            "text/plain": [
              "(2578,)"
            ]
          },
          "metadata": {
            "tags": []
          },
          "execution_count": 166
        }
      ]
    },
    {
      "cell_type": "code",
      "metadata": {
        "colab": {
          "base_uri": "https://localhost:8080/"
        },
        "id": "8rSlu2EcrNWf",
        "outputId": "2c751bef-2436-442b-93e5-fefe02136e24"
      },
      "source": [
        "y_test.shape"
      ],
      "execution_count": 167,
      "outputs": [
        {
          "output_type": "execute_result",
          "data": {
            "text/plain": [
              "(645,)"
            ]
          },
          "metadata": {
            "tags": []
          },
          "execution_count": 167
        }
      ]
    },
    {
      "cell_type": "code",
      "metadata": {
        "colab": {
          "base_uri": "https://localhost:8080/"
        },
        "id": "wez38ycVsYO_",
        "outputId": "cd009d63-5c50-44d4-82d4-8e25cc68df5f"
      },
      "source": [
        "X_train.shape"
      ],
      "execution_count": 176,
      "outputs": [
        {
          "output_type": "execute_result",
          "data": {
            "text/plain": [
              "(2578, 5)"
            ]
          },
          "metadata": {
            "tags": []
          },
          "execution_count": 176
        }
      ]
    },
    {
      "cell_type": "code",
      "metadata": {
        "colab": {
          "base_uri": "https://localhost:8080/"
        },
        "id": "vjcb1E_0sYS8",
        "outputId": "6cfe1d1d-964c-4d71-f981-e6506d9990ed"
      },
      "source": [
        "X_test.shape"
      ],
      "execution_count": 177,
      "outputs": [
        {
          "output_type": "execute_result",
          "data": {
            "text/plain": [
              "(645, 5)"
            ]
          },
          "metadata": {
            "tags": []
          },
          "execution_count": 177
        }
      ]
    },
    {
      "cell_type": "code",
      "metadata": {
        "id": "07uFmvx0UOpb"
      },
      "source": [
        "from sklearn.model_selection import train_test_split #train_test_split methods allows us to use for splitting data arrays into two subsets: for training data and for testing data. \n",
        "from sklearn.neighbors import KNeighborsClassifier #KNeighborsClassifier model looks the nearest neighbours model.\n",
        "from sklearn import metrics  # metrics methods allows us to calculate the confusion matrix, precision, recall \n",
        "from sklearn.model_selection import StratifiedKFold\n",
        "from sklearn.model_selection import cross_val_score\n",
        "from sklearn.metrics import accuracy_score\n",
        "from sklearn.model_selection import KFold\n",
        "from sklearn.model_selection import cross_val_predict\n",
        "from sklearn import metrics  # metrics methods allows us to calculate the confusion matrix, precision, recall \n",
        "from sklearn.svm import LinearSVC #Support vector machine-linear\n",
        "from sklearn.svm import SVC ##Support vector machine-linear,poly,rgf..\n",
        "from sklearn import svm# for using vector machine-linear,poly,rgf..\n",
        "from sklearn.model_selection import GridSearchCV # for finding which parameter is the best"
      ],
      "execution_count": 185,
      "outputs": []
    },
    {
      "cell_type": "code",
      "metadata": {
        "colab": {
          "base_uri": "https://localhost:8080/"
        },
        "id": "CLwflXpSA8p5",
        "outputId": "c4c397e5-24ea-4136-af39-d3e91b7c352d"
      },
      "source": [
        "accuracy=[]\n",
        "for i in range(1,10):\n",
        "  #the classifier model- KNeighborsClassifier() classifier\n",
        "  model = KNeighborsClassifier(n_neighbors=i)\n",
        "  #train the model using the training sets\n",
        "  model.fit(X_train,y_train)\n",
        "  \n",
        "  #predict output \n",
        "  y_pred= model.predict(X_test)\n",
        "  y_true= y_test\n",
        "  #Accuraccy\n",
        "  acc= metrics.accuracy_score(y_true,y_pred)\n",
        "  \n",
        "  #to find the highest number with accuracy \n",
        "  accuracy.append(acc)\n",
        "  #making arrays\n",
        "  acc_array= np.array(accuracy)\n",
        "    #below one is to see all the accuracy results \n",
        "  #print(\" When n_neighbors= %.0f\" %i,\"then Accuracy is: %.4f\" %acc)\n",
        "\n",
        "print(\"when K neighbour parameter is\",(np.argmax(acc_array)+1),\"That gives best Accuracy score {:.4f}\" .format(np.amax(acc_array)))\n",
        "print(\" \")\n",
        "\n",
        "#Cross Validation Score\n",
        "cv_accuracy=[]\n",
        "for i in range(1,10): \n",
        "  model = KNeighborsClassifier(n_neighbors=i)\n",
        "  model.fit(X_train, y_train)\n",
        "\n",
        "\n",
        "  # Specify the corss validation parameters\n",
        "  cv = StratifiedKFold(n_splits=5, random_state=42, shuffle=True)\n",
        "\n",
        "  # Rum the corss-validation processing pipline \n",
        "  cv_acc = cross_val_score(estimator=model,\n",
        "                          X=X_train,\n",
        "                          y=y_train,\n",
        "                          cv=cv,\n",
        "                          n_jobs=-1)\n",
        "  cv_accuracy.append(np.mean(cv_acc))\n",
        "  #k_value.append(n_neighbors) #incase if i start my k_neighbour with 0\n",
        "    #making arrays\n",
        "  cv_array= np.array(cv_accuracy)\n",
        "  # Report results of the accuracy. \n",
        "\n",
        "  #below one is to see all the accuracy results \n",
        "  #print(\"when K_neighbour parameter is %.0f\" %i,\"Cross-validation: {:.4f}\".format(np.mean(cv_acc)))\n",
        "\n",
        "print(\"The best Cross-validation score {:.4f}\" .format(np.amax(cv_array)))"
      ],
      "execution_count": 183,
      "outputs": [
        {
          "output_type": "stream",
          "text": [
            "when K neighbour parameter is 4 That gives best Accuracy score 0.7163\n",
            " \n",
            "The best Cross-validation score 0.7064\n"
          ],
          "name": "stdout"
        }
      ]
    },
    {
      "cell_type": "markdown",
      "metadata": {
        "id": "uHxGNOFf83pO"
      },
      "source": [
        "**FIRST MODEL ACCURACY REPORT: Use the cell below to report on the accuracy of your first model**\n"
      ]
    },
    {
      "cell_type": "code",
      "metadata": {
        "id": "hDrzCnB99i9h",
        "colab": {
          "base_uri": "https://localhost:8080/"
        },
        "outputId": "153b26d8-54e0-4078-ce21-98392137cf7e"
      },
      "source": [
        "#\n",
        "# Use this cell to report on the accuracy of the first model (i.e. training and cross validation performance)\n",
        "# and model selection results. \n",
        "\n",
        "#KNN model\n",
        "#Test accuracy results : 71.63%\n",
        "print(\"Test accuracy results {:.4f}\" .format(np.amax(acc_array)))\n",
        "#The best Cross-validation score 0.7064\n",
        "print(\"the best Cross-validation score: {:.4f}\".format(np.amax(cv_array)))"
      ],
      "execution_count": 190,
      "outputs": [
        {
          "output_type": "stream",
          "text": [
            "Test accuracy results 0.7163\n",
            "the best Cross-validation score: 0.7064\n"
          ],
          "name": "stdout"
        }
      ]
    },
    {
      "cell_type": "markdown",
      "metadata": {
        "id": "zrkRGd1t-ISp"
      },
      "source": [
        "**SECOND MODEL TRAINING: Use the cells below to train the predictive model using the second model you selected.**"
      ]
    },
    {
      "cell_type": "code",
      "metadata": {
        "id": "GR8wUcci-Lnj",
        "colab": {
          "base_uri": "https://localhost:8080/"
        },
        "outputId": "1af47e04-4335-4de3-e241-4c2d4051fdcc"
      },
      "source": [
        "#\n",
        "# Use this cell to train the second model you selected for challenge 7. \n",
        "# Add additional cells as needed below this cell.\n",
        "#\n",
        "rbf_accuracy = []\n",
        "for i in range(1,5):\n",
        "  model4= SVC(C=i,kernel=\"rbf\",gamma='scale')\n",
        "  model4.fit(X_train,y_train)\n",
        "    #predict output \n",
        "  y_pred= model4.predict(X_test) \n",
        "  y_true= y_test\n",
        "\n",
        "  #Accuraccy\n",
        "  acc2= metrics.accuracy_score(y_true,y_pred)\n",
        "  \n",
        "  #to find the highest number with accuracy \n",
        "  rbf_accuracy.append(acc2)\n",
        "  #making arrays\n",
        "  acc_array= np.array(rbf_accuracy)\n",
        "    #below one is to see all the accuracy results \n",
        "  #print(\" When n_neighbors= %.0f\" %i,\"then Accuracy is: %.4f\" %acc)\n",
        "\n",
        "print(\"when parameter is\",(np.argmax(acc_array)+1),\"That gives best Accuracy score {:.4f}\" .format(np.amax(acc_array)))\n",
        "cv_accuracy=[]\n",
        "for i in range(1,5): \n",
        "    # Specify the corss validation parameters\n",
        "  cv = StratifiedKFold(n_splits=5, random_state=42, shuffle=True)\n",
        "\n",
        "    # Rum the corss-validation processing pipline \n",
        "  cv_acc = cross_val_score(estimator=model4,\n",
        "                          X=X_train,\n",
        "                          y=y_train,\n",
        "                          cv=cv,\n",
        "                          n_jobs=-1)\n",
        "  cv_accuracy.append(np.mean(cv_acc))\n",
        "    #making arrays\n",
        "  cv_array= np.array(cv_accuracy)\n",
        "    # Report results of the accuracy. \n",
        "print(\" the best Cross-validation score: {:.4f}\".format(np.amax(cv_array)))"
      ],
      "execution_count": 192,
      "outputs": [
        {
          "output_type": "stream",
          "text": [
            "when parameter is 1 That gives best Accuracy score 0.7426\n",
            " the best Cross-validation score: 0.7184\n"
          ],
          "name": "stdout"
        }
      ]
    },
    {
      "cell_type": "markdown",
      "metadata": {
        "id": "8RcnRV85-SkD"
      },
      "source": [
        "**SECOND MODEL ACCURACY REPORT: Use the cell below to report on the accuracy of your second model**"
      ]
    },
    {
      "cell_type": "code",
      "metadata": {
        "id": "2DxNn4gl-SCN",
        "colab": {
          "base_uri": "https://localhost:8080/"
        },
        "outputId": "dae4b3e2-b7a0-4940-a427-4287bfafb493"
      },
      "source": [
        "#\n",
        "# Use this cell to report on the accuracy of the second model (i.e. training and cross validation performance)\n",
        "# and model selection results.\n",
        "\n",
        "#SVM model\n",
        "#Test accuracy results : 74.26%\n",
        "print(\"Test accuracy results {:.4f}\" .format(np.amax(acc_array)))\n",
        "\n",
        "#The best Cross-validation score 0.7184\n",
        "print(\"the best Cross-validation score: {:.4f}\".format(np.amax(cv_array)))"
      ],
      "execution_count": 188,
      "outputs": [
        {
          "output_type": "stream",
          "text": [
            "Test accuracy results 0.7426\n",
            "the best Cross-validation score: 0.7184\n"
          ],
          "name": "stdout"
        }
      ]
    },
    {
      "cell_type": "markdown",
      "metadata": {
        "id": "2D6o6Cy-8xKp"
      },
      "source": [
        "## Challenge 8 Apply your model in the independent test set.\n",
        "User the cells below to apply your two predictive models on the test dataset `M_test` and report testing accuracy for each model.\n",
        "\n",
        "As part of this challenge you are expected to:\n",
        "- Project each observation in the test dataset `M_test` onto the reduced-dimensional features space.\n",
        "- Apply each on of your model to make predict each user's political preference (for users in the testing set only)\n",
        "- Report testing accuracy on each of your models.\n",
        "- Make an assessment as to which model is better and whether either of your models is overfitted or under-fitted."
      ]
    },
    {
      "cell_type": "code",
      "metadata": {
        "id": "HtC0osVlCgr4"
      },
      "source": [
        "#\n",
        "# Use this cell to comlete channlege 8; add more cells as necessary. \n",
        "#"
      ],
      "execution_count": null,
      "outputs": []
    },
    {
      "cell_type": "code",
      "metadata": {
        "colab": {
          "base_uri": "https://localhost:8080/"
        },
        "id": "gajT2lR91cus",
        "outputId": "4583f09b-2187-49ba-81cc-79c1afdb19cf"
      },
      "source": [
        "M_test.shape"
      ],
      "execution_count": 194,
      "outputs": [
        {
          "output_type": "execute_result",
          "data": {
            "text/plain": [
              "(3223, 8523)"
            ]
          },
          "metadata": {
            "tags": []
          },
          "execution_count": 194
        }
      ]
    },
    {
      "cell_type": "code",
      "metadata": {
        "colab": {
          "base_uri": "https://localhost:8080/"
        },
        "id": "JTEzThxp2F2B",
        "outputId": "534ba44a-c927-41da-8c08-3fc4dda4f83a"
      },
      "source": [
        "accuracy=[]\n",
        "for i in range(1,10):\n",
        "  #the classifier model- KNeighborsClassifier() classifier\n",
        "  model = KNeighborsClassifier(n_neighbors=i)\n",
        "  #train the model using the training sets\n",
        "  model.fit(X_train,y_train)\n",
        "  \n",
        "  #predict output \n",
        "  y_pred= model.predict(X_test)\n",
        "  y_true= y_test\n",
        "  #Accuraccy\n",
        "  acc= metrics.accuracy_score(y_true,y_pred)\n",
        "  \n",
        "  #to find the highest number with accuracy \n",
        "  accuracy.append(acc)\n",
        "  #making arrays\n",
        "  acc_array= np.array(accuracy)\n",
        "    #below one is to see all the accuracy results \n",
        "  #print(\" When n_neighbors= %.0f\" %i,\"then Accuracy is: %.4f\" %acc)\n",
        "\n",
        "print(\"best Accuracy score {:.2f}\" .format(np.amax(acc_array)))\n",
        "print(\" \")\n",
        "\n",
        "#Cross Validation Score\n",
        "cv_accuracy=[]\n",
        "for i in range(1,10): \n",
        "  model = KNeighborsClassifier(n_neighbors=i)\n",
        "  model.fit(X_train, y_train)\n",
        "\n",
        "\n",
        "  # Specify the corss validation parameters\n",
        "  cv = StratifiedKFold(n_splits=5, random_state=42, shuffle=True)\n",
        "\n",
        "  # Rum the corss-validation processing pipline \n",
        "  cv_acc = cross_val_score(estimator=model,\n",
        "                          X=X_train,\n",
        "                          y=y_train,\n",
        "                          cv=cv,\n",
        "                          n_jobs=-1)\n",
        "  cv_accuracy.append(np.mean(cv_acc))\n",
        "  #k_value.append(n_neighbors) #incase if i start my k_neighbour with 0\n",
        "    #making arrays\n",
        "  cv_array= np.array(cv_accuracy)\n",
        "  # Report results of the accuracy. \n",
        "\n",
        "  #below one is to see all the accuracy results \n",
        "  #print(\"when K_neighbour parameter is %.0f\" %i,\"Cross-validation: {:.4f}\".format(np.mean(cv_acc)))\n",
        "\n",
        "print(\"The best Cross-validation score {:.2f}\" .format(np.amax(cv_array)))"
      ],
      "execution_count": 201,
      "outputs": [
        {
          "output_type": "stream",
          "text": [
            "best Accuracy score 0.72\n",
            " \n",
            "The best Cross-validation score 0.71\n"
          ],
          "name": "stdout"
        }
      ]
    },
    {
      "cell_type": "code",
      "metadata": {
        "colab": {
          "base_uri": "https://localhost:8080/"
        },
        "id": "IsYICYcZ2F5f",
        "outputId": "3aa37d38-873a-42eb-b827-26a4235bc137"
      },
      "source": [
        "#\n",
        "# Use this cell to train the second model you selected for challenge 7. \n",
        "# Add additional cells as needed below this cell.\n",
        "#\n",
        "rbf_accuracy = []\n",
        "for i in range(1,5):\n",
        "  model4= SVC(C=i,kernel=\"rbf\",gamma='scale')\n",
        "  model4.fit(X_train,y_train)\n",
        "    #predict output \n",
        "  y_pred= model4.predict(X_test) \n",
        "  y_true= y_test\n",
        "\n",
        "  #Accuraccy\n",
        "  acc2= metrics.accuracy_score(y_true,y_pred)\n",
        "  \n",
        "  #to find the highest number with accuracy \n",
        "  rbf_accuracy.append(acc2)\n",
        "  #making arrays\n",
        "  acc_array= np.array(rbf_accuracy)\n",
        "    #below one is to see all the accuracy results \n",
        "  #print(\" When n_neighbors= %.0f\" %i,\"then Accuracy is: %.4f\" %acc)\n",
        "\n",
        "print(\"best Accuracy score {:.2f}\" .format(np.amax(acc_array)))\n",
        "cv_accuracy=[]\n",
        "for i in range(1,5): \n",
        "    # Specify the corss validation parameters\n",
        "  cv = StratifiedKFold(n_splits=5, random_state=42, shuffle=True)\n",
        "\n",
        "    # Rum the corss-validation processing pipline \n",
        "  cv_acc = cross_val_score(estimator=model4,\n",
        "                          X=X_train,\n",
        "                          y=y_train,\n",
        "                          cv=cv,\n",
        "                          n_jobs=-1)\n",
        "  cv_accuracy.append(np.mean(cv_acc))\n",
        "    #making arrays\n",
        "  cv_array= np.array(cv_accuracy)\n",
        "    # Report results of the accuracy. \n",
        "print(\" the best Cross-validation score: {:.2f}\".format(np.amax(cv_array)))"
      ],
      "execution_count": 202,
      "outputs": [
        {
          "output_type": "stream",
          "text": [
            "best Accuracy score 0.74\n",
            " the best Cross-validation score: 0.72\n"
          ],
          "name": "stdout"
        }
      ]
    },
    {
      "cell_type": "code",
      "metadata": {
        "colab": {
          "base_uri": "https://localhost:8080/"
        },
        "id": "IE6N4OEh0pTr",
        "outputId": "3e413973-a03a-45bb-b0e1-880afa153741"
      },
      "source": [
        "print(\"KNN Test accuracy results {:.2f}\" .format(np.amax(acc_array)))"
      ],
      "execution_count": 191,
      "outputs": [
        {
          "output_type": "stream",
          "text": [
            "KNN Test accuracy results 0.72\n"
          ],
          "name": "stdout"
        }
      ]
    },
    {
      "cell_type": "code",
      "metadata": {
        "colab": {
          "base_uri": "https://localhost:8080/"
        },
        "id": "Wyi0zuJP0pXE",
        "outputId": "063a63b9-a0b7-4ab4-d5ae-77f64205c38d"
      },
      "source": [
        "print(\"SVM Test accuracy results {:.2f}\" .format(np.amax(acc_array)))\n"
      ],
      "execution_count": 193,
      "outputs": [
        {
          "output_type": "stream",
          "text": [
            "SVM Test accuracy results 0.74\n"
          ],
          "name": "stdout"
        }
      ]
    },
    {
      "cell_type": "code",
      "metadata": {
        "id": "cxYF0ooe09XK"
      },
      "source": [
        "# I believe SVM is better because it perform better than KNN anf has high accuracy results than KNN. "
      ],
      "execution_count": null,
      "outputs": []
    },
    {
      "cell_type": "markdown",
      "metadata": {
        "id": "tqDyqK9qb4Ze"
      },
      "source": [
        "# END OF EXAM/CODE"
      ]
    },
    {
      "cell_type": "markdown",
      "metadata": {
        "id": "ha290eSXRT9R"
      },
      "source": [
        "\n",
        "*Copyright Statement*: Copyright © 2020 Christoforou. The materials provided by the instructor of this course, including this notebook, are for the use of the students enrolled in the course. Materials are presented in an educational context for personal use and study and should not be shared, distributed, disseminated or sold in print — or digitally — outside the course without permission. You may not, nor may you knowingly allow others to reproduce or distribute lecture notes, course materials  as well as any of their derivatives without the instructor's express written consent."
      ]
    },
    {
      "cell_type": "code",
      "metadata": {
        "id": "dp_ijPXabKsG"
      },
      "source": [
        ""
      ],
      "execution_count": null,
      "outputs": []
    }
  ]
}